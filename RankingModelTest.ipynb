{
 "cells": [
  {
   "cell_type": "code",
   "execution_count": 1,
   "metadata": {
    "collapsed": true
   },
   "outputs": [],
   "source": [
    "%load_ext autoreload\n",
    "%autoreload 2\n",
    "\n",
    "from os import walk\n",
    "import time\n",
    "import datetime as datetime\n",
    "import random\n",
    "import json\n",
    "import re\n",
    "import statsmodels.api as sm\n",
    "import pandas as pd\n",
    "import numpy as np\n",
    "import scipy as sp\n",
    "import scipy.sparse as sps\n",
    "from sklearn import linear_model\n",
    "import math\n",
    "\n",
    "from Entity import Match\n",
    "from common import * \n",
    "from Storages import *\n",
    "\n",
    "from IPython.display import display\n",
    "\n",
    "import matplotlib as mpl\n",
    "import matplotlib.patches as patches\n",
    "get_ipython().magic('matplotlib inline')\n",
    "import matplotlib.pyplot as plt\n",
    "%matplotlib inline"
   ]
  },
  {
   "cell_type": "code",
   "execution_count": 2,
   "metadata": {
    "collapsed": true
   },
   "outputs": [],
   "source": [
    "class RankingModel:\n",
    "    def __init__(self):\n",
    "        self.ids = []\n",
    "        self.y = []\n",
    "        self.w = []\n",
    "        self.n = 0\n",
    "        self.rn = 0\n",
    "        self.fl = np.ones(1000000)\n",
    "        self.rows = np.zeros(1000000)\n",
    "        self.cols = np.zeros(1000000)\n",
    "        self.vals = np.zeros(1000000)\n",
    "        self.indexes = dict()\n",
    "\n",
    "    def addMatches(self, ids, y, w):\n",
    "        for id, y, w in zip(ids, y, w):\n",
    "            self.y.append(y)\n",
    "            self.w.append(w)\n",
    "            arr = []\n",
    "            for i in id[0]:\n",
    "                arr.append(self.rn)\n",
    "                self.rows[self.rn] = self.n\n",
    "                self.cols[self.rn] = i\n",
    "                self.vals[self.rn] = 1\n",
    "                self.rn += 1\n",
    "\n",
    "            for i in id[1]:\n",
    "                arr.append(self.rn)\n",
    "                self.rows[self.rn] = self.n\n",
    "                self.cols[self.rn] = i\n",
    "                self.vals[self.rn] = -1\n",
    "                self.rn += 1\n",
    "            self.indexes[self.n] = arr\n",
    "            self.n += 1\n",
    "    \n",
    "    def removeMatches(self, ind):\n",
    "        arr = []\n",
    "        for i in ind:\n",
    "            arr += self.indexes[i]\n",
    "        self.fl[arr] = 0\n",
    "\n",
    "class BradleyTerryRM(RankingModel):\n",
    "    \n",
    "    def __init__(self, model=None):\n",
    "        self.model = model\n",
    "        if self.model is None:\n",
    "            self.model = linear_model.LogisticRegression(C=100, solver='newton-cg', fit_intercept=0)#, warm_start=1)\n",
    "        super().__init__()\n",
    "    \n",
    "    def calcRankings(self, model=None, matchesCntBorder = 1):\n",
    "        #mCnt = self.n\n",
    "        y = np.array(self.y)\n",
    "        w = np.array(self.w)\n",
    "        x = sps.csr_matrix((self.vals[:self.rn][self.fl[:self.rn]!=0], \n",
    "                           (self.rows[:self.rn][self.fl[:self.rn]!=0],\n",
    "                            self.cols[:self.rn][self.fl[:self.rn]!=0])))\n",
    "        cm = np.absolute(x).sum(axis=0)\n",
    "\n",
    "        indNonZero = np.nonzero(cm[0] >= matchesCntBorder)[1].tolist()\n",
    "        x = x[:, indNonZero]\n",
    "        xv = x[:, -1].toarray().flatten()\n",
    "        x = sps.lil_matrix(x)\n",
    "        print(x.shape)\n",
    "        for i in np.nonzero(xv)[0]:\n",
    "            xi = x[i, -1]\n",
    "            x[i] = x[i].toarray() - xi\n",
    "        x = sps.lil_matrix(sps.csr_matrix(x)[:, :-1])\n",
    "        print(x.shape)\n",
    "\n",
    "        xx = sps.vstack([x, x])\n",
    "        yy = np.hstack([y, 1 - y])\n",
    "        ww = np.hstack([w, 1 - w])\n",
    "\n",
    "#        if self.model.coef_ is not None:\n",
    "#            print(len(self.model.coef_[0]))\n",
    "        self.model.fit(xx, yy, sample_weight=ww * 10)\n",
    "        r = np.append(self.model.coef_, -self.model.coef_.sum())\n",
    "\n",
    "        res = []\n",
    "        for i in range(cm.shape[1]):\n",
    "            rr = float('nan')\n",
    "            if i in indNonZero:\n",
    "                ind = indNonZero.index(i)\n",
    "                rr = r[ind]\n",
    "            res.append(rr)\n",
    "        return res"
   ]
  },
  {
   "cell_type": "code",
   "execution_count": 3,
   "metadata": {},
   "outputs": [
    {
     "name": "stdout",
     "output_type": "stream",
     "text": [
      "(6, 3)\n",
      "(6, 2)\n",
      "[0.20220775843904371, -0.80339933813038544, 0.60119157969134174]\n",
      "(6, 3)\n",
      "(6, 2)\n",
      "[-0.00012600546066999997, -0.52767465593911378, 0.52780066139978377]\n",
      "(6, 3)\n",
      "(6, 2)\n",
      "[-0.41932412531242291, -0.00019589134973174716, 0.41952001666215466]\n",
      "(6, 3)\n",
      "(6, 2)\n",
      "[0.0, 0.0, -0.0]\n",
      "(7, 3)\n",
      "(7, 2)\n",
      "[-0.41932412531242291, -0.00019589134973174716, 0.41952001666215466]\n",
      "(8, 3)\n",
      "(8, 2)\n",
      "[-0.00012600546067020185, -0.52767465593911378, 0.52780066139978399]\n"
     ]
    }
   ],
   "source": [
    "ids = []\n",
    "ids.append([[0], [1]])\n",
    "ids.append([[0], [1]])\n",
    "ids.append([[0], [1]])\n",
    "ids.append([[1], [2]])\n",
    "ids.append([[2], [0]])\n",
    "ids.append([[2], [0]])\n",
    "y = [1] * len(ids)\n",
    "w = [1] * len(ids)\n",
    "rm = BradleyTerryRM()\n",
    "for i in range(len(ids)):\n",
    "    rm.addMatches([ids[i]], [y[i]], [w[i]])\n",
    "print(rm.calcRankings())\n",
    "rm.removeMatches([0])\n",
    "print(rm.calcRankings())\n",
    "rm.removeMatches([1])\n",
    "print(rm.calcRankings())\n",
    "rm.removeMatches([4])\n",
    "print(rm.calcRankings())\n",
    "rm.addMatches([ids[4]], [y[4]], [w[4]])\n",
    "print(rm.calcRankings())\n",
    "rm.addMatches([ids[1]], [y[1]], [w[1]])\n",
    "print(rm.calcRankings())"
   ]
  },
  {
   "cell_type": "code",
   "execution_count": 4,
   "metadata": {},
   "outputs": [
    {
     "data": {
      "text/plain": [
       "array([0, 2, 0, 4, 0])"
      ]
     },
     "execution_count": 4,
     "metadata": {},
     "output_type": "execute_result"
    }
   ],
   "source": [
    "a = np.array([1, 2, 3, 4, 5])\n",
    "a[np.array([0,2,4])] = 0\n",
    "a"
   ]
  },
  {
   "cell_type": "code",
   "execution_count": 5,
   "metadata": {},
   "outputs": [
    {
     "data": {
      "text/plain": [
       "[0.2022077584390437, -0.8033993381303854, 0.6011915796913417]"
      ]
     },
     "execution_count": 5,
     "metadata": {},
     "output_type": "execute_result"
    }
   ],
   "source": [
    "(6, 3)\n",
    "(6, 2)\n",
    "[0.20220775843904371, -0.80339933813038544, 0.60119157969134174]"
   ]
  },
  {
   "cell_type": "code",
   "execution_count": 13,
   "metadata": {
    "scrolled": true
   },
   "outputs": [
    {
     "name": "stdout",
     "output_type": "stream",
     "text": [
      "Bad name yang min m805 m1419\n",
      "Bad name min yang m805 m1419\n",
      "Bad name денис макаров m9378 m16244\n",
      "Bad name макаров денис m9378 m16244\n",
      "Bad name дмитрий осипов m2866 m16251\n",
      "Bad name осипов дмитрий m2866 m16251\n",
      "Bad name олег попов m2948 m16397\n",
      "Bad name попов олег m2948 m16397\n",
      "Bad name yang ying m1682 w2033\n",
      "Bad name ying yang m1682 w2033\n",
      "Bad name li xiang m1613 w2718\n",
      "Bad name xiang li m1613 w2718\n",
      "Bad name yang min m805 m1419\n",
      "Bad name min yang m805 m1419\n",
      "Bad name денис макаров m9378 m16244\n",
      "Bad name макаров денис m9378 m16244\n",
      "Bad name дмитрий осипов m2866 m16251\n",
      "Bad name осипов дмитрий m2866 m16251\n",
      "Bad name олег попов m2948 m16397\n",
      "Bad name попов олег m2948 m16397\n",
      "Bad name yang ying m1682 w2033\n",
      "Bad name ying yang m1682 w2033\n",
      "Bad name li xiang m1613 w2718\n",
      "Bad name xiang li m1613 w2718\n",
      "prepared_data/liga_pro/all_results.txt\n"
     ]
    }
   ],
   "source": [
    "playersDict = GlobalPlayersDict(\"filtered\")\n",
    "\n",
    "sources = []\n",
    "#sources.append(['master_tour', 'prepared_data/master_tour/all_results.txt'])\n",
    "sources.append(['liga_pro', 'prepared_data/liga_pro/all_results.txt'])\n",
    "#sources.append(['challenger_series', 'prepared_data/challenger_series/all_results.txt'])\n",
    "#sources.append(['bkfon', 'prepared_data/bkfon/all_results.txt'])\n",
    "#sources.append(['local', 'prepared_data/local/kchr_results.txt'])\n",
    "#sources.append(['ittf', 'prepared_data/ittf/all_results.txt'])\n",
    "#sources.append(['rttf', 'prepared_data/rttf/all_results.txt'])\n",
    "\n",
    "matchesStorage = MatchesStorage(sources)\n"
   ]
  },
  {
   "cell_type": "code",
   "execution_count": 7,
   "metadata": {
    "collapsed": true
   },
   "outputs": [],
   "source": [
    "def calcSetWeight(match):\n",
    "    return (match.sets[0] + 0.1) * 1.0 / (match.sets[0] + match.sets[1] + 0.2)"
   ]
  },
  {
   "cell_type": "code",
   "execution_count": 27,
   "metadata": {
    "scrolled": true
   },
   "outputs": [
    {
     "name": "stdout",
     "output_type": "stream",
     "text": [
      "2016-11-23 2016-11-23 1 0 <Entity.Match object at 0x000000001692C7B8>\n",
      "2016-11-23 2016-11-23 1 1 <Entity.Match object at 0x000000001692C438>\n",
      "2016-11-23 2016-11-23 1 2 <Entity.Match object at 0x000000001692C630>\n",
      "2016-11-23 2016-11-23 1 3 <Entity.Match object at 0x000000001692C0B8>\n",
      "2016-11-23 2016-11-23 1 4 <Entity.Match object at 0x000000001692CA20>\n",
      "2016-11-23 2016-11-23 1 5 <Entity.Match object at 0x000000001692CB00>\n",
      "2016-11-23 2016-11-23 1 6 <Entity.Match object at 0x000000001692C2B0>\n",
      "2016-11-23 2016-11-23 1 7 <Entity.Match object at 0x000000001692C5C0>\n",
      "2016-11-23 2016-11-23 1 8 <Entity.Match object at 0x0000000016AD5748>\n",
      "2016-11-23 2016-11-23 1 9 <Entity.Match object at 0x0000000016AD5080>\n",
      "2016-11-23 2016-11-23 1 10 <Entity.Match object at 0x0000000016AD5780>\n",
      "2016-11-23 2016-11-23 1 11 <Entity.Match object at 0x0000000016AD5908>\n",
      "2016-11-30 2016-11-30 1 12 <Entity.Match object at 0x0000000016AD5518>\n",
      "2016-11-30 2016-11-30 1 13 <Entity.Match object at 0x0000000016AD5A90>\n",
      "2016-11-30 2016-11-30 1 14 <Entity.Match object at 0x0000000016AD5F28>\n",
      "2016-11-30 2016-11-30 1 15 <Entity.Match object at 0x0000000016AD5BE0>\n",
      "2016-11-30 2016-11-30 1 16 <Entity.Match object at 0x0000000016AD5B00>\n",
      "2016-11-30 2016-11-30 1 17 <Entity.Match object at 0x00000000169A5A58>\n",
      "2016-11-30 2016-11-30 1 18 <Entity.Match object at 0x00000000169A5B38>\n",
      "2016-11-30 2016-11-30 1 19 <Entity.Match object at 0x00000000169A57B8>\n",
      "2016-11-30 2016-11-30 1 20 <Entity.Match object at 0x00000000169A5B00>\n",
      "2016-11-30 2016-11-30 1 21 <Entity.Match object at 0x00000000169A56D8>\n",
      "2016-11-30 2016-11-30 1 22 <Entity.Match object at 0x00000000169A5128>\n",
      "2016-11-30 2016-11-30 1 23 <Entity.Match object at 0x00000000169A5588>\n",
      "2016-12-06 2016-12-06 1 24 <Entity.Match object at 0x00000000169A5390>\n",
      "2016-12-06 2016-12-06 1 25 <Entity.Match object at 0x00000000169A5EB8>\n",
      "2016-12-06 2016-12-06 1 26 <Entity.Match object at 0x00000000169A5A20>\n",
      "2016-12-06 2016-12-06 1 27 <Entity.Match object at 0x00000000169C6208>\n",
      "2016-12-06 2016-12-06 1 28 <Entity.Match object at 0x00000000169C6780>\n",
      "2016-12-06 2016-12-06 1 29 <Entity.Match object at 0x00000000169C60B8>\n",
      "2016-12-06 2016-12-06 1 30 <Entity.Match object at 0x00000000169C6828>\n",
      "2016-12-06 2016-12-06 1 31 <Entity.Match object at 0x00000000169C6CF8>\n",
      "2016-12-06 2016-12-06 1 32 <Entity.Match object at 0x00000000169C6B70>\n",
      "2016-12-06 2016-12-06 1 33 <Entity.Match object at 0x00000000169C69E8>\n",
      "2016-12-06 2016-12-06 1 34 <Entity.Match object at 0x00000000169C6D30>\n",
      "2016-12-06 2016-12-06 1 35 <Entity.Match object at 0x00000000169C6320>\n",
      "2016-12-06\n",
      "(36, 14)\n",
      "(36, 13)\n",
      "2016-12-07 2016-12-07 1 36 <Entity.Match object at 0x000000001697BBE0>\n"
     ]
    },
    {
     "data": {
      "text/plain": [
       "'\\nmCnt = len(matches)\\n#x = sps.lil_matrix((mCnt, len(playersDict.id2names)))\\ny = np.ones(mCnt)\\nw = np.ones(mCnt)\\nids = []\\n\\n#    matchesList = []\\nk = 0\\nplayerMatchesCnt = dict()\\ncurDate = \\'2017-06-25\\'\\nfor match in matches:\\n    mDate = match.date\\n    if mDate < curDate:# and len(set(match.sources) & params[\\'sources\\']) > 0:\\n        fl_mw = \\'\\'\\n        for e in match.ids[0] + match.ids[1]:\\n            fl_mw += e[0]\\n        fl_mw = \\'\\'.join(sorted(set(list(fl_mw))))\\n\\n        if match.isPair == 0 and fl_mw == mw:\\n            id = [match.ids[0][0], match.ids[1][0]]\\n#            if not (match.points is None) and not (match.sets is None):\\n            if match.sets is not None:\\n                if (mDate > (datetime.datetime.strptime(curDate, \"%Y-%m-%d\").date() - \\n                             datetime.timedelta(days=params[\\'ws\\'])).strftime(\"%Y-%m-%d\")):# or                         #playerMatchesCnt.get(id[0], 0) < params[\\'nmax\\'] or playerMatchesCnt.get(id[1], 0) < params[\\'nmax\\']:\\n                    playerMatchesCnt[id[0]] = playerMatchesCnt.get(id[0], 0) + 1\\n                    playerMatchesCnt[id[1]] = playerMatchesCnt.get(id[1], 0) + 1\\n                    ind = [(int(e[1:]) - 1) for e in id]\\n                    w[k] = params[\\'wf\\'](match)\\n                    k += 1\\n                    ids.append([[ind[0]], [ind[1]]])\\n\\nmCnt = k\\nprint(mCnt)\\nrm.addMatches(ids, y[:mCnt], w[:mCnt])\\n#, matchesCntBorder=params[\\'nmin\\'])\\nr = rm.calcRankings()\\n'"
      ]
     },
     "execution_count": 27,
     "metadata": {},
     "output_type": "execute_result"
    }
   ],
   "source": [
    "mw = 'm'\n",
    "params = dict()\n",
    "params['ws'] = 365\n",
    "params['wf'] = calcSetWeight\n",
    "\n",
    "matches = matchesStorage.matches\n",
    "\n",
    "events = []\n",
    "k = 0\n",
    "for match in sorted(matches, key = lambda x: x.date):\n",
    "    fl_mw = ''\n",
    "    for e in match.ids[0] + match.ids[1]:\n",
    "        fl_mw += e[0]\n",
    "    fl_mw = ''.join(sorted(set(list(fl_mw))))\n",
    "\n",
    "    if match.isPair == 0 and fl_mw == mw:\n",
    "        if match.sets is not None:\n",
    "            events.append([match.date, 1, k ,match])\n",
    "            removeDate = (datetime.datetime.strptime(match.date, \"%Y-%m-%d\").date() +\n",
    "                          datetime.timedelta(days=params['ws'])).strftime(\"%Y-%m-%d\")\n",
    "            events.append([removeDate, 0, k, match])\n",
    "            k += 1\n",
    "\n",
    "rm = BradleyTerryRM()\n",
    "\n",
    "curDate = None\n",
    "r = None\n",
    "for dt, fl, k, match in sorted(events, key=lambda x: x[0] + '_' + str(x[1])):\n",
    "    if curDate != dt:\n",
    "        if curDate is not None and curDate == '2016-12-06':\n",
    "            print(curDate)\n",
    "            r = rm.calcRankings()        \n",
    "        curDate = dt\n",
    "    if fl == 1:\n",
    "        ind = [(int(e[1:]) - 1) for e in [match.ids[0][0], match.ids[1][0]]]\n",
    "        w = params['wf'](match)\n",
    "        print(curDate, dt, fl, k, match)\n",
    "        rm.addMatches([[[ind[0]], [ind[1]]]], [1], [w])\n",
    "    else:\n",
    "        rm.removeMatches([k])\n",
    "    if dt > '2016-12-06':\n",
    "        break\n",
    "    \n",
    "'''\n",
    "mCnt = len(matches)\n",
    "#x = sps.lil_matrix((mCnt, len(playersDict.id2names)))\n",
    "y = np.ones(mCnt)\n",
    "w = np.ones(mCnt)\n",
    "ids = []\n",
    "\n",
    "#    matchesList = []\n",
    "k = 0\n",
    "playerMatchesCnt = dict()\n",
    "curDate = '2017-06-25'\n",
    "for match in matches:\n",
    "    mDate = match.date\n",
    "    if mDate < curDate:# and len(set(match.sources) & params['sources']) > 0:\n",
    "        fl_mw = ''\n",
    "        for e in match.ids[0] + match.ids[1]:\n",
    "            fl_mw += e[0]\n",
    "        fl_mw = ''.join(sorted(set(list(fl_mw))))\n",
    "\n",
    "        if match.isPair == 0 and fl_mw == mw:\n",
    "            id = [match.ids[0][0], match.ids[1][0]]\n",
    "#            if not (match.points is None) and not (match.sets is None):\n",
    "            if match.sets is not None:\n",
    "                if (mDate > (datetime.datetime.strptime(curDate, \"%Y-%m-%d\").date() - \n",
    "                             datetime.timedelta(days=params['ws'])).strftime(\"%Y-%m-%d\")):# or \\\n",
    "                        #playerMatchesCnt.get(id[0], 0) < params['nmax'] or playerMatchesCnt.get(id[1], 0) < params['nmax']:\n",
    "                    playerMatchesCnt[id[0]] = playerMatchesCnt.get(id[0], 0) + 1\n",
    "                    playerMatchesCnt[id[1]] = playerMatchesCnt.get(id[1], 0) + 1\n",
    "                    ind = [(int(e[1:]) - 1) for e in id]\n",
    "                    w[k] = params['wf'](match)\n",
    "                    k += 1\n",
    "                    ids.append([[ind[0]], [ind[1]]])\n",
    "\n",
    "mCnt = k\n",
    "print(mCnt)\n",
    "rm.addMatches(ids, y[:mCnt], w[:mCnt])\n",
    "#, matchesCntBorder=params['nmin'])\n",
    "r = rm.calcRankings()\n",
    "'''"
   ]
  },
  {
   "cell_type": "code",
   "execution_count": 24,
   "metadata": {},
   "outputs": [
    {
     "name": "stdout",
     "output_type": "stream",
     "text": [
      "2017-06-10\t11:16\tЛига-Про (Командный чемпионат ФНТР. Плей-Офф. Муж), 2017-06-10\tm217\tm29\t3:0\t11:9;11:7;11:5\t19048341992823910844335648398\n"
     ]
    }
   ],
   "source": [
    "for match in matches:\n",
    "    if match.ids[0][0] == 'm217' or match.ids[1][0] == 'm217':\n",
    "        print(match.toStr())"
   ]
  },
  {
   "cell_type": "code",
   "execution_count": 25,
   "metadata": {
    "collapsed": true
   },
   "outputs": [],
   "source": [
    "res = []\n",
    "for e in sorted(playersDict.id2names):\n",
    "    if e[0] != mw:\n",
    "        continue\n",
    "    id = int(e[1:]) - 1\n",
    "    if id < len(r) and r[id] == r[id]:\n",
    "        res.append([e, playersDict.getName(e), r[id]])"
   ]
  },
  {
   "cell_type": "code",
   "execution_count": 26,
   "metadata": {},
   "outputs": [
    {
     "name": "stdout",
     "output_type": "stream",
     "text": [
      "['m323', 'Александр Коротков', 0.83593626948272282]\n",
      "['m283', 'Павел Лукьянов', 0.79135847221907052]\n",
      "['m2702', 'Ростислав Салкин', 0.76019241683085848]\n",
      "['m157', 'Павел Пульный', 0.71309243476967854]\n",
      "['m200', 'Юрий Ноздрунов', 0.57763988737125038]\n",
      "['m1038', 'Азамат Эргешов', 0.5381565661322939]\n",
      "['m248', 'Александр Желубенков', 0.53720897037559823]\n",
      "['m249', 'Антон Анисимов', 0.44425141529321066]\n",
      "['m53', 'Валентин Панкратов', 0.25077414385160218]\n",
      "['m2707', 'Дмитрий Здобнов', -0.47487455027916603]\n",
      "['m134', 'Максим Ефройкин', -0.58586916700630376]\n",
      "['m337', 'Станислав Меркушев', -0.716808476156786]\n",
      "['m114', 'Илья Игошин', -0.93908559976105521]\n",
      "['m2706', 'Александр Морозов', -2.7319727831229743]\n"
     ]
    }
   ],
   "source": [
    "for e in sorted(res, key=lambda x: -x[2]):\n",
    "    print(e)"
   ]
  },
  {
   "cell_type": "code",
   "execution_count": null,
   "metadata": {
    "collapsed": true
   },
   "outputs": [],
   "source": []
  },
  {
   "cell_type": "code",
   "execution_count": null,
   "metadata": {
    "collapsed": true
   },
   "outputs": [],
   "source": []
  },
  {
   "cell_type": "code",
   "execution_count": null,
   "metadata": {
    "collapsed": true
   },
   "outputs": [],
   "source": []
  }
 ],
 "metadata": {
  "kernelspec": {
   "display_name": "Python 3",
   "language": "python",
   "name": "python3"
  },
  "language_info": {
   "codemirror_mode": {
    "name": "ipython",
    "version": 3
   },
   "file_extension": ".py",
   "mimetype": "text/x-python",
   "name": "python",
   "nbconvert_exporter": "python",
   "pygments_lexer": "ipython3",
   "version": "3.4.0"
  }
 },
 "nbformat": 4,
 "nbformat_minor": 2
}
